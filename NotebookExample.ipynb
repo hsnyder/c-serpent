{
 "cells": [
  {
   "cell_type": "markdown",
   "id": "954f2480-a1fd-45e1-9f48-81f9a77fef1b",
   "metadata": {},
   "source": [
    "# Example: CSerpentModule\n",
    "\n",
    "CSerpentModule allows you to develop C extensions in a Jupyter notebook, modify their source code, and reload them on the fly."
   ]
  },
  {
   "cell_type": "markdown",
   "id": "02448d34-725f-4607-9bf6-bbd518a92f69",
   "metadata": {},
   "source": [
    "## Building the C-serpent extension module\n",
    "\n",
    "C-serpent is primarily a standalone command-line program, but it can also be built as a Python extension module so that it can be called directly from Python. In order to use cserpentmodule, you first need to build this extension.\n",
    "\n",
    "In a UNIX-like shell, you can build the extension module using a pair of command like this:\n",
    "\n",
    "    PY_INC_DIR=\"$(python -c \"import distutils.sysconfig; print(distutils.sysconfig.get_python_inc())\")\"\n",
    "    \n",
    "    cc -shared -fPIC -o cserpent_py.so cserpent_py.c -I$PY_INC_DIR\n",
    "\n",
    "The first line asks Python where it's header files are (you might need to install these, on Linux they might be in a package called python3-dev or python3-devel). The scond line builds the cserpent extension module."
   ]
  },
  {
   "cell_type": "markdown",
   "id": "6cf0f1bd-8981-4c5f-99ac-238bba3ccfef",
   "metadata": {},
   "source": [
    "## Compile and wrap C code"
   ]
  },
  {
   "cell_type": "code",
   "execution_count": 1,
   "id": "4aeeb399-4c73-483b-9f9e-48f1d28168ed",
   "metadata": {},
   "outputs": [],
   "source": [
    "import cserpentmodule, numpy"
   ]
  },
  {
   "cell_type": "code",
   "execution_count": 2,
   "id": "f169e8d4-f92e-458f-974b-286ff5f7ac9b",
   "metadata": {},
   "outputs": [],
   "source": [
    "c_code = \"\"\"\n",
    "\n",
    "#include <stdint.h>\n",
    "\n",
    "void add_array_scalar_i32(int N, int32_t *x, int32_t y) {\n",
    "    for(int i = 0; i < N; i++) \n",
    "        x[i] += y;\n",
    "}\n",
    "\n",
    "\"\"\""
   ]
  },
  {
   "cell_type": "code",
   "execution_count": 3,
   "id": "a3d61497-f180-4c61-b3f0-3df151d4ebd6",
   "metadata": {},
   "outputs": [
    {
     "name": "stdout",
     "output_type": "stream",
     "text": [
      "Running compiler:\n",
      "cc -I/home/hsnyder/micromamba/envs/diffusers/include/python3.10 -I/home/hsnyder/micromamba/envs/diffusers/lib/python3.10/site-packages/numpy/core/include -Wall -Wno-unused-function -shared -fPIC -x c - -o /tmp/my_c_module_1709314149.so -O3 -fopenmp\n",
      "Build successful!\n"
     ]
    }
   ],
   "source": [
    "m = cserpentmodule.CSerpentModule(\"my_c_module\")\n",
    "my_c_module = m.compile(c_code, ['add_array_scalar_i32'])"
   ]
  },
  {
   "cell_type": "code",
   "execution_count": 4,
   "id": "1155e031-d15c-4fc8-bcbd-a4e19a04d96c",
   "metadata": {},
   "outputs": [
    {
     "data": {
      "text/plain": [
       "array([3, 3, 3, 3, 3], dtype=int32)"
      ]
     },
     "execution_count": 4,
     "metadata": {},
     "output_type": "execute_result"
    }
   ],
   "source": [
    "x = numpy.zeros(5, numpy.int32)\n",
    "my_c_module.add_array_scalar_i32(len(x), x, 3)\n",
    "x"
   ]
  },
  {
   "cell_type": "markdown",
   "id": "04752b62-cfd6-49f2-bc53-b67379bfcc42",
   "metadata": {},
   "source": [
    "## Update C code and live-reload module"
   ]
  },
  {
   "cell_type": "code",
   "execution_count": 5,
   "id": "699ab747-cdc9-4e17-9f20-af479a6b632a",
   "metadata": {},
   "outputs": [],
   "source": [
    "import time; time.sleep(1)\n",
    "# Hot-reloads need to be spaced at least 1 second apart. \n",
    "# I'm just adding this sleep so that it works if you \"clear and re-run\" the notebook,\n",
    "# which will generally be fast enough that the two m.compile calls occur the same second"
   ]
  },
  {
   "cell_type": "code",
   "execution_count": 6,
   "id": "6a92f86e-f109-4071-81d0-a0c395d1006e",
   "metadata": {},
   "outputs": [],
   "source": [
    "updated_c_code = \"\"\"\n",
    "\n",
    "#include <stdint.h>\n",
    "\n",
    "void add_array_scalar_i32(int N, int32_t *x, int32_t y) {\n",
    "    for(int i = 0; i < N; i++) \n",
    "        x[i] += y;\n",
    "}\n",
    "\n",
    "void mul_array_scalar_i32(int N, int32_t *x, int32_t y) {\n",
    "    for(int i = 0; i < N; i++) \n",
    "        x[i] *= y;\n",
    "}\n",
    "\n",
    "\"\"\""
   ]
  },
  {
   "cell_type": "code",
   "execution_count": 7,
   "id": "06375d74-fd6d-462b-a325-35e833d831d7",
   "metadata": {},
   "outputs": [
    {
     "name": "stdout",
     "output_type": "stream",
     "text": [
      "Running compiler:\n",
      "cc -I/home/hsnyder/micromamba/envs/diffusers/include/python3.10 -I/home/hsnyder/micromamba/envs/diffusers/lib/python3.10/site-packages/numpy/core/include -I/home/hsnyder/micromamba/envs/diffusers/include/python3.10 -I/home/hsnyder/micromamba/envs/diffusers/lib/python3.10/site-packages/numpy/core/include -Wall -Wno-unused-function -shared -fPIC -x c - -o /tmp/my_c_module_1709314151.so -O3 -fopenmp\n",
      "Build successful!\n"
     ]
    }
   ],
   "source": [
    "my_c_module = m.compile(updated_c_code, ['add_array_scalar_i32', 'mul_array_scalar_i32'])"
   ]
  },
  {
   "cell_type": "code",
   "execution_count": 8,
   "id": "2b2e4f09-6bec-4755-91ca-6a2f6808fc31",
   "metadata": {},
   "outputs": [
    {
     "data": {
      "text/plain": [
       "['__doc__',\n",
       " '__file__',\n",
       " '__loader__',\n",
       " '__name__',\n",
       " '__package__',\n",
       " '__spec__',\n",
       " 'add_array_scalar_i32',\n",
       " 'mul_array_scalar_i32']"
      ]
     },
     "execution_count": 8,
     "metadata": {},
     "output_type": "execute_result"
    }
   ],
   "source": [
    "dir(my_c_module)"
   ]
  },
  {
   "cell_type": "code",
   "execution_count": 9,
   "id": "a2595197-8967-4e2b-82e4-3e20f1e1633e",
   "metadata": {},
   "outputs": [
    {
     "data": {
      "text/plain": [
       "array([3, 3, 3, 3, 3], dtype=int32)"
      ]
     },
     "execution_count": 9,
     "metadata": {},
     "output_type": "execute_result"
    }
   ],
   "source": [
    "x = numpy.ones(5, numpy.int32)\n",
    "my_c_module.mul_array_scalar_i32(len(x), x, 3)\n",
    "x"
   ]
  },
  {
   "cell_type": "code",
   "execution_count": null,
   "id": "931e4b34-590a-447d-ac62-fd9cd79e619a",
   "metadata": {},
   "outputs": [],
   "source": []
  }
 ],
 "metadata": {
  "kernelspec": {
   "display_name": "Python 3 (ipykernel)",
   "language": "python",
   "name": "python3"
  },
  "language_info": {
   "codemirror_mode": {
    "name": "ipython",
    "version": 3
   },
   "file_extension": ".py",
   "mimetype": "text/x-python",
   "name": "python",
   "nbconvert_exporter": "python",
   "pygments_lexer": "ipython3",
   "version": "3.10.13"
  }
 },
 "nbformat": 4,
 "nbformat_minor": 5
}
